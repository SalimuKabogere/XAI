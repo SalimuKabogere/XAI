{
  "nbformat": 4,
  "nbformat_minor": 0,
  "metadata": {
    "colab": {
      "provenance": [],
      "authorship_tag": "ABX9TyMY/es6cuqcznD4pDKASSws",
      "include_colab_link": true
    },
    "kernelspec": {
      "name": "python3",
      "display_name": "Python 3"
    },
    "language_info": {
      "name": "python"
    }
  },
  "cells": [
    {
      "cell_type": "markdown",
      "metadata": {
        "id": "view-in-github",
        "colab_type": "text"
      },
      "source": [
        "<a href=\"https://colab.research.google.com/github/SalimuKabogere/XAI/blob/main/kd.ipynb\" target=\"_parent\"><img src=\"https://colab.research.google.com/assets/colab-badge.svg\" alt=\"Open In Colab\"/></a>"
      ]
    },
    {
      "cell_type": "code",
      "execution_count": 2,
      "metadata": {
        "id": "icA1Ugwj0pr7"
      },
      "outputs": [],
      "source": [
        "import torch\n",
        "import torch.nn as nn\n",
        "import torch.optim as optim\n",
        "import torchvision.transforms as transforms\n",
        "import torchvision.models as models\n",
        "import torchvision.datasets as datasets\n",
        "from torch.utils.data import DataLoader\n",
        "import torch.nn.functional as F\n",
        "import matplotlib.pyplot as plt\n",
        "from tqdm import tqdm\n",
        "import os"
      ]
    },
    {
      "cell_type": "code",
      "source": [
        "from google.colab import drive\n",
        "import os\n",
        "\n",
        "# Mount Google Drive\n",
        "drive.mount('/content/drive')\n",
        "\n",
        "# Define dataset path\n",
        "dataset_path = \"/content/drive/My Drive/Dataset4\"\n",
        "\n",
        "# Verify dataset structure\n",
        "os.listdir(dataset_path)"
      ],
      "metadata": {
        "colab": {
          "base_uri": "https://localhost:8080/"
        },
        "id": "6G3a-CsR1Ujp",
        "outputId": "43e5d610-e846-40d5-9671-2e5d2510df82"
      },
      "execution_count": 3,
      "outputs": [
        {
          "output_type": "stream",
          "name": "stdout",
          "text": [
            "Drive already mounted at /content/drive; to attempt to forcibly remount, call drive.mount(\"/content/drive\", force_remount=True).\n"
          ]
        },
        {
          "output_type": "execute_result",
          "data": {
            "text/plain": [
              "['Testing', 'Validation', 'Training', 'testing', 'processed', 'raw']"
            ]
          },
          "metadata": {},
          "execution_count": 3
        }
      ]
    },
    {
      "cell_type": "code",
      "source": [
        "# If dataset is stored in Google Drive, mount it\n",
        "from google.colab import drive\n",
        "# drive.mount('/content/drive')  # Uncomment if using Google Drive\n",
        "\n",
        "# Define dataset path (Ensure dataset is uploaded to /content/Dataset)\n",
        "DATASET_PATH = \"/content/drive/My Drive/Dataset4\"\n",
        "\n",
        "# Define transformations\n",
        "transform = transforms.Compose([\n",
        "    transforms.Resize((224, 224)),  # Resize for ViT\n",
        "    transforms.ToTensor(),\n",
        "    transforms.Normalize(mean=[0.5, 0.5, 0.5], std=[0.5, 0.5, 0.5])\n",
        "])\n",
        "\n",
        "# Load datasets\n",
        "BATCH_SIZE = 32\n",
        "\n",
        "train_dataset = datasets.ImageFolder(root=os.path.join(DATASET_PATH, \"Training\"), transform=transform)\n",
        "val_dataset = datasets.ImageFolder(root=os.path.join(DATASET_PATH, \"Validation\"), transform=transform)\n",
        "# test_dataset = datasets.ImageFolder(root=os.path.join(DATASET_PATH, \"Testing\"), transform=transform)\n",
        "\n",
        "# Create DataLoaders\n",
        "train_loader = DataLoader(train_dataset, batch_size=BATCH_SIZE, shuffle=True)\n",
        "val_loader = DataLoader(val_dataset, batch_size=BATCH_SIZE, shuffle=False)\n",
        "# test_loader = DataLoader(test_dataset, batch_size=BATCH_SIZE, shuffle=False)\n",
        "\n",
        "print(f\"Classes: {train_dataset.classes}\")\n",
        "print(f\"Train: {len(train_dataset)}, Val: {len(val_dataset)}\")\n"
      ],
      "metadata": {
        "colab": {
          "base_uri": "https://localhost:8080/"
        },
        "id": "Elrz-pbo03vn",
        "outputId": "03dc99d6-b7cb-41e6-8fd9-31ae6e863a59"
      },
      "execution_count": 4,
      "outputs": [
        {
          "output_type": "stream",
          "name": "stdout",
          "text": [
            "Classes: ['Fake', 'Real']\n",
            "Train: 64, Val: 16\n"
          ]
        }
      ]
    },
    {
      "cell_type": "code",
      "source": [
        "# Load pretrained ViT\n",
        "device = torch.device(\"cuda\" if torch.cuda.is_available() else \"cpu\")\n"
      ],
      "metadata": {
        "id": "LN4sNzhn1OvO"
      },
      "execution_count": 5,
      "outputs": []
    },
    {
      "cell_type": "code",
      "source": [
        "# Load Pretrained ViT (Updated for newer Torch versions)\n",
        "vit_teacher = models.get_model('vit_b_16', pretrained=True).to(device)\n",
        "\n",
        "# Modify classifier head for 2 classes (Real, Fake)\n",
        "num_features = vit_teacher.heads.head.in_features\n",
        "vit_teacher.heads.head = nn.Linear(num_features, 2).to(device)\n",
        "\n",
        "# Freeze ViT parameters (No training for Teacher model)\n",
        "for param in vit_teacher.parameters():\n",
        "    param.requires_grad = False\n",
        "\n",
        "print(\"Teacher Model (ViT) Loaded\")"
      ],
      "metadata": {
        "colab": {
          "base_uri": "https://localhost:8080/"
        },
        "id": "fO05fY7B2FSZ",
        "outputId": "2b0fa67c-1d4c-43d2-a666-625c6b2c3d30"
      },
      "execution_count": 6,
      "outputs": [
        {
          "output_type": "stream",
          "name": "stderr",
          "text": [
            "/usr/local/lib/python3.11/dist-packages/torchvision/models/_utils.py:208: UserWarning: The parameter 'pretrained' is deprecated since 0.13 and may be removed in the future, please use 'weights' instead.\n",
            "  warnings.warn(\n",
            "/usr/local/lib/python3.11/dist-packages/torchvision/models/_utils.py:223: UserWarning: Arguments other than a weight enum or `None` for 'weights' are deprecated since 0.13 and may be removed in the future. The current behavior is equivalent to passing `weights=ViT_B_16_Weights.IMAGENET1K_V1`. You can also use `weights=ViT_B_16_Weights.DEFAULT` to get the most up-to-date weights.\n",
            "  warnings.warn(msg)\n"
          ]
        },
        {
          "output_type": "stream",
          "name": "stdout",
          "text": [
            "Teacher Model (ViT) Loaded\n"
          ]
        }
      ]
    },
    {
      "cell_type": "code",
      "source": [
        "# Define CNN model\n",
        "class CNNStudent(nn.Module):\n",
        "    def __init__(self):\n",
        "        super(CNNStudent, self).__init__()\n",
        "        self.conv1 = nn.Conv2d(3, 64, kernel_size=3, padding=1)\n",
        "        self.conv2 = nn.Conv2d(64, 128, kernel_size=3, padding=1)\n",
        "        self.conv3 = nn.Conv2d(128, 256, kernel_size=3, padding=1)\n",
        "        self.pool = nn.MaxPool2d(2, 2)\n",
        "        self.fc1 = nn.Linear(256 * 28 * 28, 512)\n",
        "        self.fc2 = nn.Linear(512, 2)\n",
        "\n",
        "    def forward(self, x):\n",
        "        x = self.pool(F.relu(self.conv1(x)))\n",
        "        x = self.pool(F.relu(self.conv2(x)))\n",
        "        x = self.pool(F.relu(self.conv3(x)))\n",
        "        x = x.view(x.size(0), -1)  # Flatten for FC layers\n",
        "        x = F.relu(self.fc1(x))\n",
        "        x = self.fc2(x)\n",
        "        return x\n",
        "\n",
        "cnn_student = CNNStudent().to(device)\n",
        "print(\"Student Model (CNN) Initialized\")"
      ],
      "metadata": {
        "colab": {
          "base_uri": "https://localhost:8080/"
        },
        "id": "q9z1IA8Q2Jlf",
        "outputId": "f2a39976-c5a2-4963-db2a-4a1837053031"
      },
      "execution_count": 7,
      "outputs": [
        {
          "output_type": "stream",
          "name": "stdout",
          "text": [
            "Student Model (CNN) Initialized\n"
          ]
        }
      ]
    },
    {
      "cell_type": "code",
      "source": [
        "# Define knowledge distillation loss\n",
        "class DistillationLoss(nn.Module):\n",
        "    def __init__(self, temperature=3.0, alpha=0.5):\n",
        "        super(DistillationLoss, self).__init__()\n",
        "        self.temperature = temperature\n",
        "        self.alpha = alpha\n",
        "        self.criterion_ce = nn.CrossEntropyLoss()\n",
        "        self.criterion_kl = nn.KLDivLoss(reduction=\"batchmean\")\n",
        "\n",
        "    def forward(self, student_logits, teacher_logits, labels):\n",
        "        soft_targets = F.log_softmax(student_logits / self.temperature, dim=1)\n",
        "        teacher_targets = F.softmax(teacher_logits / self.temperature, dim=1)\n",
        "        loss_kl = self.criterion_kl(soft_targets, teacher_targets)\n",
        "        loss_ce = self.criterion_ce(student_logits, labels)\n",
        "        loss = (1 - self.alpha) * loss_ce + (self.alpha * self.temperature * self.temperature) * loss_kl\n",
        "        return loss"
      ],
      "metadata": {
        "id": "j5ipcz0N2QWm"
      },
      "execution_count": 8,
      "outputs": []
    },
    {
      "cell_type": "code",
      "source": [
        "# Train the student model using KD\n",
        "def train_student(model, teacher, train_loader, optimizer, loss_fn, epochs=2):\n",
        "    model.train()\n",
        "    teacher.eval()\n",
        "    train_loss = []\n",
        "\n",
        "    for epoch in range(epochs):\n",
        "        epoch_loss = 0\n",
        "        for images, labels in tqdm(train_loader, desc=f\"Epoch {epoch+1}/{epochs}\"):\n",
        "            images, labels = images.to(device), labels.to(device)\n",
        "            with torch.no_grad():\n",
        "                teacher_outputs = teacher(images)\n",
        "            student_outputs = model(images)\n",
        "            loss = loss_fn(student_outputs, teacher_outputs, labels)\n",
        "            optimizer.zero_grad()\n",
        "            loss.backward()\n",
        "            optimizer.step()\n",
        "            epoch_loss += loss.item()\n",
        "\n",
        "        avg_loss = epoch_loss / len(train_loader)\n",
        "        train_loss.append(avg_loss)\n",
        "        print(f\"Epoch {epoch+1}/{epochs} - Loss: {avg_loss:.4f}\")\n",
        "\n",
        "    return train_loss\n"
      ],
      "metadata": {
        "id": "5C8jiwMe2Wqn"
      },
      "execution_count": 9,
      "outputs": []
    },
    {
      "cell_type": "code",
      "source": [
        "# Define Optimizer and Train\n",
        "optimizer = optim.Adam(cnn_student.parameters(), lr=0.001)\n",
        "loss_fn = DistillationLoss(temperature=3.0, alpha=0.5)\n",
        "EPOCHS = 2\n",
        "train_loss = train_student(cnn_student, vit_teacher, train_loader, optimizer, loss_fn, EPOCHS)\n",
        "\n",
        "# Plot Loss Curve\n",
        "plt.plot(range(EPOCHS), train_loss, label=\"Training Loss\")\n",
        "plt.xlabel(\"Epochs\")\n",
        "plt.ylabel(\"Loss\")\n",
        "plt.title(\"Student Model Training Loss\")\n",
        "plt.legend()\n",
        "plt.show()\n"
      ],
      "metadata": {
        "colab": {
          "base_uri": "https://localhost:8080/",
          "height": 544
        },
        "id": "0sh3xVss2gS3",
        "outputId": "6ed9c64a-d04b-4aa5-d210-3b43a96dacf9"
      },
      "execution_count": 10,
      "outputs": [
        {
          "output_type": "stream",
          "name": "stderr",
          "text": [
            "Epoch 1/2: 100%|██████████| 2/2 [01:32<00:00, 46.27s/it]\n"
          ]
        },
        {
          "output_type": "stream",
          "name": "stdout",
          "text": [
            "Epoch 1/2 - Loss: 25.5183\n"
          ]
        },
        {
          "output_type": "stream",
          "name": "stderr",
          "text": [
            "Epoch 2/2: 100%|██████████| 2/2 [01:19<00:00, 39.65s/it]\n"
          ]
        },
        {
          "output_type": "stream",
          "name": "stdout",
          "text": [
            "Epoch 2/2 - Loss: 1.0517\n"
          ]
        },
        {
          "output_type": "display_data",
          "data": {
            "text/plain": [
              "<Figure size 640x480 with 1 Axes>"
            ],
            "image/png": "[encoded data removed]"
          },
          "metadata": {}
        }
      ]
    },
    {
      "cell_type": "code",
      "source": [
        "# Define the save path in Colab\n",
        "model_save_path = \"/content/drive/My Drive/kd_fake_currency_model.pth\"\n",
        "\n",
        "# Save the trained student model\n",
        "torch.save(cnn_student.state_dict(), model_save_path)\n",
        "\n",
        "print(f\"Model saved to: {model_save_path}\")"
      ],
      "metadata": {
        "colab": {
          "base_uri": "https://localhost:8080/"
        },
        "id": "b5RHrAAi2olv",
        "outputId": "2814228b-b20e-49c3-86fa-e3bdf1533080"
      },
      "execution_count": 11,
      "outputs": [
        {
          "output_type": "stream",
          "name": "stdout",
          "text": [
            "Model saved to: /content/drive/My Drive/kd_fake_currency_model.pth\n"
          ]
        }
      ]
    }
  ]
}